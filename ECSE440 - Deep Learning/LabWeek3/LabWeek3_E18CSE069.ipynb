{
 "cells": [
  {
   "cell_type": "markdown",
   "metadata": {},
   "source": [
    "### Ishaan Mehta E18CSE069 EB02 LabWeek 3"
   ]
  },
  {
   "cell_type": "code",
   "execution_count": 74,
   "metadata": {
    "colab": {},
    "colab_type": "code",
    "executionInfo": {
     "elapsed": 1248,
     "status": "ok",
     "timestamp": 1599222468287,
     "user": {
      "displayName": "Aditya Varshney",
      "photoUrl": "https://lh4.googleusercontent.com/-7MQPavZ6W3A/AAAAAAAAAAI/AAAAAAAABU8/Pobzwa_vEjE/s64/photo.jpg",
      "userId": "17853705406246917766"
     },
     "user_tz": -330
    },
    "id": "O08mBAbaf6Wz"
   },
   "outputs": [],
   "source": [
    "import numpy as np\n",
    "import matplotlib.pyplot as plt\n",
    "import cv2\n",
    "import pandas as pd\n",
    "from google.colab.patches import cv2_imshow\n",
    "import urllib\n",
    "import os\n",
    "\n",
    "from sklearn.linear_model import LogisticRegression\n",
    "from sklearn.model_selection import train_test_split\n",
    "from sklearn.metrics import accuracy_score\n",
    "import timeit"
   ]
  },
  {
   "cell_type": "code",
   "execution_count": 75,
   "metadata": {
    "colab": {},
    "colab_type": "code",
    "executionInfo": {
     "elapsed": 1240,
     "status": "ok",
     "timestamp": 1599222468290,
     "user": {
      "displayName": "Aditya Varshney",
      "photoUrl": "https://lh4.googleusercontent.com/-7MQPavZ6W3A/AAAAAAAAAAI/AAAAAAAABU8/Pobzwa_vEjE/s64/photo.jpg",
      "userId": "17853705406246917766"
     },
     "user_tz": -330
    },
    "id": "eoCaXIBxDyZs"
   },
   "outputs": [],
   "source": [
    "path_dir=['/content/drive/My Drive/BTECH SEM 5/ECSE381l-DeepLearning/LAB3/data/cats/','/content/drive/My Drive/BTECH SEM 5/ECSE381l-DeepLearning/LAB3/data/dogs/']\n"
   ]
  },
  {
   "cell_type": "code",
   "execution_count": 93,
   "metadata": {
    "colab": {},
    "colab_type": "code",
    "executionInfo": {
     "elapsed": 1195,
     "status": "ok",
     "timestamp": 1599222605070,
     "user": {
      "displayName": "Aditya Varshney",
      "photoUrl": "https://lh4.googleusercontent.com/-7MQPavZ6W3A/AAAAAAAAAAI/AAAAAAAABU8/Pobzwa_vEjE/s64/photo.jpg",
      "userId": "17853705406246917766"
     },
     "user_tz": -330
    },
    "id": "ov41jA9KE6es"
   },
   "outputs": [],
   "source": [
    "def get_pixel_data(imgsize):\n",
    "  start = timeit.default_timer()\n",
    "  cat_imgs=os.listdir()\n",
    "  image_pixel=[]\n",
    "  for path in path_dir:\n",
    "    os.chdir(path)\n",
    "    imgs=os.listdir()\n",
    "    for img in imgs:\n",
    "      im=cv2.imread(img)\n",
    "      resized = cv2.resize(im, (imgsize,imgsize), interpolation = cv2.INTER_AREA)\n",
    "      pixels=resized.flatten()\n",
    "      image_pixel.append(pixels)\n",
    "\n",
    "  y_class=[]\n",
    "  for i in range(21):\n",
    "    if i<=10:\n",
    "      y_class.append(1)\n",
    "    else:\n",
    "      y_class.append(0)\n",
    "  X=np.array(image_pixel)\n",
    "  y=np.array(y_class)\n",
    "  X_train, X_test, y_train, y_test = train_test_split(X, y, test_size=0.550, random_state=32)\n",
    "  logreg=LogisticRegression()\n",
    "  logreg.fit(X_train,y_train)\n",
    "  y_train_pred=logreg.predict(X_train)\n",
    "  y_test_pred=logreg.predict(X_test)\n",
    "  train_accuracy=accuracy_score(y_train, y_train_pred)\n",
    "  test_accuracy=accuracy_score(y_test, y_test_pred)\n",
    "  stop = timeit.default_timer()\n",
    "  runtime=stop-start\n",
    "\n",
    "  return train_accuracy,test_accuracy,runtime\n",
    "\n",
    "\n",
    "\n",
    "  \n",
    "  "
   ]
  },
  {
   "cell_type": "code",
   "execution_count": 94,
   "metadata": {
    "colab": {},
    "colab_type": "code",
    "executionInfo": {
     "elapsed": 5989,
     "status": "ok",
     "timestamp": 1599222610066,
     "user": {
      "displayName": "Aditya Varshney",
      "photoUrl": "https://lh4.googleusercontent.com/-7MQPavZ6W3A/AAAAAAAAAAI/AAAAAAAABU8/Pobzwa_vEjE/s64/photo.jpg",
      "userId": "17853705406246917766"
     },
     "user_tz": -330
    },
    "id": "WS3i7IybFHwa"
   },
   "outputs": [],
   "source": [
    "img_size=[10,25,50,100,500]\n",
    "train_accuracy=[]\n",
    "test_accuracy=[]\n",
    "runtime=[]\n",
    "for i in img_size:\n",
    "  tr_acc,te_acc,runt=get_pixel_data(i)\n",
    "  train_accuracy.append(tr_acc)\n",
    "  test_accuracy.append(te_acc)\n",
    "  runtime.append(runt)\n"
   ]
  },
  {
   "cell_type": "code",
   "execution_count": 102,
   "metadata": {
    "colab": {
     "base_uri": "https://localhost:8080/",
     "height": 281
    },
    "colab_type": "code",
    "executionInfo": {
     "elapsed": 998,
     "status": "ok",
     "timestamp": 1599222967322,
     "user": {
      "displayName": "Aditya Varshney",
      "photoUrl": "https://lh4.googleusercontent.com/-7MQPavZ6W3A/AAAAAAAAAAI/AAAAAAAABU8/Pobzwa_vEjE/s64/photo.jpg",
      "userId": "17853705406246917766"
     },
     "user_tz": -330
    },
    "id": "98XIYQn29ir8",
    "outputId": "10bdffa1-a720-4951-e960-33b6bce35a99"
   },
   "outputs": [
    {
     "data": {
      "image/png": "[encoded data removed]",
      "text/plain": [
       "<Figure size 432x288 with 1 Axes>"
      ]
     },
     "metadata": {
      "needs_background": "light",
      "tags": []
     },
     "output_type": "display_data"
    }
   ],
   "source": [
    "plt.plot(img_size,test_accuracy)\n",
    "plt.plot(img_size,train_accuracy)\n",
    "plt.title('Logistic Regression Accuracy vs Image Size')\n",
    "plt.legend(['test accuracy','train accuracy'])\n",
    "plt.ylim(ymin=0)\n",
    "plt.show()\n",
    "\n"
   ]
  },
  {
   "cell_type": "code",
   "execution_count": 108,
   "metadata": {
    "colab": {
     "base_uri": "https://localhost:8080/",
     "height": 281
    },
    "colab_type": "code",
    "executionInfo": {
     "elapsed": 1117,
     "status": "ok",
     "timestamp": 1599225871527,
     "user": {
      "displayName": "Aditya Varshney",
      "photoUrl": "https://lh4.googleusercontent.com/-7MQPavZ6W3A/AAAAAAAAAAI/AAAAAAAABU8/Pobzwa_vEjE/s64/photo.jpg",
      "userId": "17853705406246917766"
     },
     "user_tz": -330
    },
    "id": "3dvb9KiAEtd3",
    "outputId": "e5be07c7-d0b7-4db9-c1d0-089647949f74"
   },
   "outputs": [
    {
     "data": {
      "image/png": "[encoded data removed]",
      "text/plain": [
       "<Figure size 432x288 with 1 Axes>"
      ]
     },
     "metadata": {
      "needs_background": "light",
      "tags": []
     },
     "output_type": "display_data"
    }
   ],
   "source": [
    "plt.bar(runtime,img_size)\n",
    "plt.title('RunTime vs ImageSize')\n",
    "plt.show()"
   ]
  },
  {
   "cell_type": "code",
   "execution_count": null,
   "metadata": {
    "colab": {},
    "colab_type": "code",
    "id": "C0XhKVHqINy_"
   },
   "outputs": [],
   "source": []
  }
 ],
 "metadata": {
  "colab": {
   "authorship_tag": "ABX9TyPsGdNq2/YSEDCa4zLhQG2E",
   "mount_file_id": "1ryEj3poN0ldYtU65Sln2TM2HtR8Mb1LK",
   "name": "LAB3.ipynb",
   "provenance": []
  },
  "kernelspec": {
   "display_name": "Python 3",
   "language": "python",
   "name": "python3"
  },
  "language_info": {
   "codemirror_mode": {
    "name": "ipython",
    "version": 3
   },
   "file_extension": ".py",
   "mimetype": "text/x-python",
   "name": "python",
   "nbconvert_exporter": "python",
   "pygments_lexer": "ipython3",
   "version": "3.7.6"
  }
 },
 "nbformat": 4,
 "nbformat_minor": 1
}
