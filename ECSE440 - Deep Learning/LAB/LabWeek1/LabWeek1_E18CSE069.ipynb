{
 "cells": [
  {
   "cell_type": "markdown",
   "metadata": {},
   "source": [
    "# LAB 1 Ishaan Mehta EB02 E18CSE069"
   ]
  },
  {
   "cell_type": "code",
   "execution_count": 14,
   "metadata": {},
   "outputs": [],
   "source": [
    "import numpy as np"
   ]
  },
  {
   "cell_type": "code",
   "execution_count": 19,
   "metadata": {},
   "outputs": [
    {
     "name": "stdout",
     "output_type": "stream",
     "text": [
      "Array of integers:\n",
      " [[1 2 3]\n",
      " [4 5 6]]\n",
      "Array of float:\n",
      " [[1. 2. 3.]\n",
      " [4. 5. 6.]]\n",
      "Array of complex numbers:\n",
      " [[1.+4.j 2.+0.j]\n",
      " [5.+0.j 6.+0.j]]\n"
     ]
    }
   ],
   "source": [
    "a=np.array([[1,2,3],[4,5,6]])\n",
    "print(\"Array of integers:\\n\",a)\n",
    "b=np.array([[1,2,3],[4,5,6]], dtype='float')\n",
    "print(\"Array of float:\\n\", b)\n",
    "c=np.array([[1+4.j,2],[5,6]],dtype='complex')\n",
    "print(\"Array of complex numbers:\\n\",c)"
   ]
  },
  {
   "cell_type": "code",
   "execution_count": 32,
   "metadata": {},
   "outputs": [
    {
     "name": "stdout",
     "output_type": "stream",
     "text": [
      "Sum of arrays:\n",
      " [[11 13 15]\n",
      " [17 19 21]\n",
      " [23 25 27]]\n",
      "Transpose of array:\n",
      " [[1 4 7]\n",
      " [2 5 8]\n",
      " [3 6 9]]\n",
      "Elementwise multiplication:\n",
      " [[ 10  22  36]\n",
      " [ 52  70  90]\n",
      " [112 136 162]]\n",
      "Dot Product:\n",
      " [[ 84  90  96]\n",
      " [201 216 231]\n",
      " [318 342 366]]\n",
      "Element at index (2,0):\n",
      " 7\n"
     ]
    }
   ],
   "source": [
    "a=np.array([[1,2,3],[4,5,6],[7,8,9]])\n",
    "b=np.array([[10,11,12],[13,14,15],[16,17,18]])\n",
    "print(\"Sum of arrays:\\n\",a+b)\n",
    "print(\"Transpose of array:\\n\",a.T)\n",
    "print(\"Elementwise multiplication:\\n\",a*b)\n",
    "print(\"Dot Product:\\n\",a.dot(b))\n",
    "print(\"Element at index (2,0):\\n\",a[2,0])"
   ]
  },
  {
   "cell_type": "code",
   "execution_count": 37,
   "metadata": {},
   "outputs": [
    {
     "name": "stdout",
     "output_type": "stream",
     "text": [
      "First two rows and last two columns [[2 3]\n",
      " [5 6]]\n",
      "Reverse using slicing:\n",
      " [[9 8 7]\n",
      " [6 5 4]\n",
      " [3 2 1]]\n",
      "Reverse using flip:\n",
      " [[9 8 7]\n",
      " [6 5 4]\n",
      " [3 2 1]]\n"
     ]
    }
   ],
   "source": [
    "print(\"First two rows and last two columns\",a[:2,-2:])\n",
    "print(\"Reverse using slicing:\\n\",a[::-1,::-1])\n",
    "print(\"Reverse using flip:\\n\",np.flip(a))"
   ]
  },
  {
   "cell_type": "code",
   "execution_count": 7,
   "metadata": {},
   "outputs": [
    {
     "name": "stdout",
     "output_type": "stream",
     "text": [
      "Collecting wget\n",
      "  Downloading wget-3.2.zip (10 kB)\n",
      "Building wheels for collected packages: wget\n",
      "  Building wheel for wget (setup.py): started\n",
      "  Building wheel for wget (setup.py): finished with status 'done'\n",
      "  Created wheel for wget: filename=wget-3.2-py3-none-any.whl size=9686 sha256=5e0f03708edf86fa437a14486d0c13b8f72a9ce4a3cc5377033a583f915516a6\n",
      "  Stored in directory: c:\\users\\ishaan\\appdata\\local\\pip\\cache\\wheels\\a1\\b6\\7c\\0e63e34eb06634181c63adacca38b79ff8f35c37e3c13e3c02\n",
      "Successfully built wget\n",
      "Installing collected packages: wget\n",
      "Successfully installed wget-3.2\n",
      "100% [..................................................................................] 473 / 473"
     ]
    },
    {
     "data": {
      "text/plain": [
       "'Desktop'"
      ]
     },
     "execution_count": 7,
     "metadata": {},
     "output_type": "execute_result"
    }
   ],
   "source": [
    "!pip install wget"
   ]
  },
  {
   "cell_type": "code",
   "execution_count": 12,
   "metadata": {},
   "outputs": [
    {
     "name": "stdout",
     "output_type": "stream",
     "text": [
      "\r",
      "  0% [                                                                                  ]   0 / 473\r",
      "100% [..................................................................................] 473 / 473"
     ]
    },
    {
     "data": {
      "text/plain": [
       "'data.csv'"
      ]
     },
     "execution_count": 12,
     "metadata": {},
     "output_type": "execute_result"
    }
   ],
   "source": [
    "#download csv files from url\n",
    "import wget\n",
    "filename=wget.download(\"https://raw.githubusercontent.com/DeepConnectAI/challenge-week-1/master/data/structured_data/data.csv\")\n",
    "filename"
   ]
  },
  {
   "cell_type": "code",
   "execution_count": 18,
   "metadata": {},
   "outputs": [
    {
     "name": "stderr",
     "output_type": "stream",
     "text": [
      "C:\\Users\\Ishaan\\anaconda3\\lib\\site-packages\\ipykernel_launcher.py:3: VisibleDeprecationWarning: Reading unicode strings without specifying the encoding argument is deprecated. Set the encoding, use None for the system default.\n",
      "  This is separate from the ipykernel package so we can avoid doing imports until\n"
     ]
    },
    {
     "data": {
      "text/plain": [
       "array([[b'Country', b'Age', b'Salary', b'Purchased',\n",
       "        b'Price Category Of Purchase'],\n",
       "       [b'France', b'44', b'72000', b'No', b'1'],\n",
       "       [b'Spain', b'27', b'48000', b'Yes', b'1'],\n",
       "       [b'Germany', b'30', b'54000', b'No', b'2'],\n",
       "       [b'Spain', b'38', b'61000', b'No', b'3'],\n",
       "       [b'Germany', b'40', b'', b'Yes', b'1'],\n",
       "       [b'France', b'35', b'58000', b'Yes', b'2'],\n",
       "       [b'Spain', b'', b'52000', b'No', b'3'],\n",
       "       [b'France', b'48', b'79000', b'Yes', b'1'],\n",
       "       [b'Germany', b'50', b'83000', b'No', b'2'],\n",
       "       [b'France', b'37', b'67000', b'Yes', b'2'],\n",
       "       [b'France', b'18', b'54400', b'No', b'3'],\n",
       "       [b'Germany', b'22', b'55000', b'Yes', b'3'],\n",
       "       [b'Germany', b'', b'58800', b'Yes', b'1'],\n",
       "       [b'France', b'28', b'42000', b'No', b'3'],\n",
       "       [b'France', b'24', b'41000', b'No', b'2'],\n",
       "       [b'Germany', b'35', b'69000', b'No', b'1'],\n",
       "       [b'Germany', b'32', b'67000', b'Yes', b'3'],\n",
       "       [b'Germany', b'38', b'65000', b'Yes', b'3'],\n",
       "       [b'France', b'45', b'', b'Yes', b'2'],\n",
       "       [b'Germany', b'25', b'', b'No', b'1']], dtype='|S26')"
      ]
     },
     "execution_count": 18,
     "metadata": {},
     "output_type": "execute_result"
    }
   ],
   "source": [
    "#storing into numpy array(without using pandas)\n",
    "from numpy import genfromtxt\n",
    "mydata = genfromtxt('data.csv', delimiter=',',dtype=None)\n",
    "mydata"
   ]
  },
  {
   "cell_type": "code",
   "execution_count": null,
   "metadata": {},
   "outputs": [],
   "source": []
  }
 ],
 "metadata": {
  "kernelspec": {
   "display_name": "Python 3",
   "language": "python",
   "name": "python3"
  },
  "language_info": {
   "codemirror_mode": {
    "name": "ipython",
    "version": 3
   },
   "file_extension": ".py",
   "mimetype": "text/x-python",
   "name": "python",
   "nbconvert_exporter": "python",
   "pygments_lexer": "ipython3",
   "version": "3.7.6"
  }
 },
 "nbformat": 4,
 "nbformat_minor": 4
}
