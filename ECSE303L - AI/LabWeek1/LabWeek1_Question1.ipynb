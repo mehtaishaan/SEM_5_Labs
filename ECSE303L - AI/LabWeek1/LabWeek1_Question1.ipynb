{
 "cells": [
  {
   "cell_type": "markdown",
   "metadata": {},
   "source": [
    "### Ishaan Mehta  E18CSE069 EB02 LabWeek1_Question1"
   ]
  },
  {
   "cell_type": "code",
   "execution_count": 1,
   "metadata": {},
   "outputs": [],
   "source": [
    "import pandas as pd\n",
    "import numpy as np\n",
    "from sklearn.preprocessing import OneHotEncoder"
   ]
  },
  {
   "cell_type": "code",
   "execution_count": 5,
   "metadata": {},
   "outputs": [
    {
     "name": "stdout",
     "output_type": "stream",
     "text": [
      "    Country   Age   Salary Purchased  Price Category Of Purchase\n",
      "0    France  44.0  72000.0        No                           1\n",
      "1     Spain  27.0  48000.0       Yes                           1\n",
      "2   Germany  30.0  54000.0        No                           2\n",
      "3     Spain  38.0  61000.0        No                           3\n",
      "4   Germany  40.0      NaN       Yes                           1\n",
      "5    France  35.0  58000.0       Yes                           2\n",
      "6     Spain   NaN  52000.0        No                           3\n",
      "7    France  48.0  79000.0       Yes                           1\n",
      "8   Germany  50.0  83000.0        No                           2\n",
      "9    France  37.0  67000.0       Yes                           2\n",
      "10   France  18.0  54400.0        No                           3\n",
      "11  Germany  22.0  55000.0       Yes                           3\n",
      "12  Germany   NaN  58800.0       Yes                           1\n",
      "13   France  28.0  42000.0        No                           3\n",
      "14   France  24.0  41000.0        No                           2\n",
      "15  Germany  35.0  69000.0        No                           1\n",
      "16  Germany  32.0  67000.0       Yes                           3\n",
      "17  Germany  38.0  65000.0       Yes                           3\n",
      "18   France  45.0      NaN       Yes                           2\n",
      "19  Germany  25.0      NaN        No                           1\n"
     ]
    }
   ],
   "source": [
    "#subtask1 - read file\n",
    "data=pd.read_csv(\"data.csv\")\n",
    "pd.set_option('display.max_columns', None)\n",
    "print(data)"
   ]
  },
  {
   "cell_type": "code",
   "execution_count": 9,
   "metadata": {},
   "outputs": [
    {
     "name": "stdout",
     "output_type": "stream",
     "text": [
      "Index(['Age', 'Salary'], dtype='object')\n",
      "Index(['Country', 'Purchased', 'Price Category Of Purchase'], dtype='object')\n"
     ]
    }
   ],
   "source": [
    "#subtask2- numerical and categorical\n",
    "numerical=data.select_dtypes(include=[np.number])\n",
    "categorical=data.select_dtypes(exclude=[np.number])\n",
    "#category of purchase should be moved to categorical (it goes into numerical since it has integers as data)\n",
    "categorical.insert(2,'Price Category Of Purchase',numerical['Price Category Of Purchase'])\n",
    "del numerical['Price Category Of Purchase']\n",
    "#displaying column names\n",
    "print(numerical.columns)\n",
    "print(categorical.columns)"
   ]
  },
  {
   "cell_type": "code",
   "execution_count": 13,
   "metadata": {},
   "outputs": [
    {
     "name": "stdout",
     "output_type": "stream",
     "text": [
      "         Age        Salary\n",
      "0  44.000000  72000.000000\n",
      "1  27.000000  48000.000000\n",
      "2  30.000000  54000.000000\n",
      "3  38.000000  61000.000000\n",
      "4  40.000000  60364.705882\n",
      "5  35.000000  58000.000000\n",
      "6  34.222222  52000.000000\n",
      "7  48.000000  79000.000000\n",
      "8  50.000000  83000.000000\n",
      "9  37.000000  67000.000000 \n",
      "\n",
      "\n",
      "   Country Purchased  Price Category Of Purchase\n",
      "0   France        No                           1\n",
      "1    Spain       Yes                           1\n",
      "2  Germany        No                           2\n",
      "3    Spain        No                           3\n",
      "4  Germany       Yes                           1\n",
      "5   France       Yes                           2\n",
      "6    Spain        No                           3\n",
      "7   France       Yes                           1\n",
      "8  Germany        No                           2\n",
      "9   France       Yes                           2\n"
     ]
    }
   ],
   "source": [
    "#subtask3 - handle missing values\n",
    "numerical_handled=numerical.fillna(numerical.mean())\n",
    "print(numerical_handled.head(10),\"\\n\\n\")\n",
    "print(categorical.head(10))"
   ]
  },
  {
   "cell_type": "code",
   "execution_count": 14,
   "metadata": {},
   "outputs": [
    {
     "name": "stdout",
     "output_type": "stream",
     "text": [
      "[[1. 0. 0. 1. 0.]\n",
      " [0. 0. 1. 0. 1.]\n",
      " [0. 1. 0. 1. 0.]\n",
      " [0. 0. 1. 1. 0.]\n",
      " [0. 1. 0. 0. 1.]\n",
      " [1. 0. 0. 0. 1.]\n",
      " [0. 0. 1. 1. 0.]\n",
      " [1. 0. 0. 0. 1.]\n",
      " [0. 1. 0. 1. 0.]\n",
      " [1. 0. 0. 0. 1.]\n",
      " [1. 0. 0. 1. 0.]\n",
      " [0. 1. 0. 0. 1.]\n",
      " [0. 1. 0. 0. 1.]\n",
      " [1. 0. 0. 1. 0.]\n",
      " [1. 0. 0. 1. 0.]\n",
      " [0. 1. 0. 1. 0.]\n",
      " [0. 1. 0. 0. 1.]\n",
      " [0. 1. 0. 0. 1.]\n",
      " [1. 0. 0. 0. 1.]\n",
      " [0. 1. 0. 1. 0.]]\n"
     ]
    }
   ],
   "source": [
    "#subtask4 - OneHotEncode the categorical data\n",
    "encoder=OneHotEncoder(categories='auto')\n",
    "encoded_array= encoder.fit_transform(categorical[['Country','Purchased']]).toarray()\n",
    "print(encoded_array)"
   ]
  },
  {
   "cell_type": "code",
   "execution_count": 17,
   "metadata": {},
   "outputs": [
    {
     "name": "stdout",
     "output_type": "stream",
     "text": [
      "          Age     Salary\n",
      "0   16.250000  14.761905\n",
      "1    5.625000   3.333333\n",
      "2    7.500000   6.190476\n",
      "3   12.500000   9.523810\n",
      "4   13.750000   9.221289\n",
      "5   10.625000   8.095238\n",
      "6   10.138889   5.238095\n",
      "7   18.750000  18.095238\n",
      "8   20.000000  20.000000\n",
      "9   11.875000  12.380952\n",
      "10   0.000000   6.380952\n",
      "11   2.500000   6.666667\n",
      "12  10.138889   8.476190\n",
      "13   6.250000   0.476190\n",
      "14   3.750000   0.000000\n",
      "15  10.625000  13.333333\n",
      "16   8.750000  12.380952\n",
      "17  12.500000  11.428571\n",
      "18  16.875000   9.221289\n",
      "19   4.375000   9.221289\n"
     ]
    }
   ],
   "source": [
    "#subtask5 - Normalize\n",
    "numerical_normalized=((numerical_handled-numerical_handled.min())/(numerical_handled.max()-numerical_handled.min()))*20\n",
    "print(numerical_normalized)"
   ]
  },
  {
   "cell_type": "code",
   "execution_count": null,
   "metadata": {},
   "outputs": [],
   "source": []
  }
 ],
 "metadata": {
  "kernelspec": {
   "display_name": "Python 3",
   "language": "python",
   "name": "python3"
  },
  "language_info": {
   "codemirror_mode": {
    "name": "ipython",
    "version": 3
   },
   "file_extension": ".py",
   "mimetype": "text/x-python",
   "name": "python",
   "nbconvert_exporter": "python",
   "pygments_lexer": "ipython3",
   "version": "3.7.6"
  }
 },
 "nbformat": 4,
 "nbformat_minor": 4
}
