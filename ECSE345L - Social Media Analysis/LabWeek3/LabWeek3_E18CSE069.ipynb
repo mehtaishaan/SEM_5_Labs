{
 "cells": [
  {
   "cell_type": "code",
   "execution_count": null,
   "metadata": {},
   "outputs": [],
   "source": [
    "from random import uniform\n",
    "import csv\n",
    "import pandas as pd\n",
    "import networkx as nx\n",
    "import matplotlib.pyplot as plt\n",
    "import csv\n",
    "import os\n",
    "def make_label_dict(labels):\n",
    "    l = {}\n",
    "    for i, label in enumerate(labels):\n",
    "        l[i] = label\n",
    "    return l\n",
    "size = 10000\n",
    "p = 0.01\n",
    "while p<=1:\n",
    "    print(f\"Generating {p}\")\n",
    "    matrix = [[0 for _ in range(size)] for _ in range(size)]\n",
    "    for r in range(len(matrix)):\n",
    "        for c in range(r, len(matrix[r])):\n",
    "            if(uniform(0, 1) <= p):\n",
    "                matrix[r][c] = 1\n",
    "                matrix[c][r] = 1\n",
    "\n",
    "    with open(f\"{p}-matrix.csv\",\"w\", newline='') as my_csv:\n",
    "        csvWriter = csv.writer(my_csv,delimiter=',')\n",
    "        csvWriter.writerow([x for x in range(0, len(matrix)+1)])\n",
    "        for index, row in enumerate(matrix):\n",
    "            csvWriter.writerow([index+1] + row)\n",
    "\n",
    "    input_data = pd.read_csv(f\"{p}-matrix.csv\", index_col=0)\n",
    "\n",
    "    with open(f\"{p}-matrix.csv\", 'r') as f:\n",
    "        d_reader = csv.DictReader(f)\n",
    "        headers = d_reader.fieldnames\n",
    "\n",
    "    labels=make_label_dict(headers)\n",
    "\n",
    "    doplot = False\n",
    "    if (doplot == True):\n",
    "        print(f\"Plotting {p}\")\n",
    "        G = nx.Graph(input_data.values)\n",
    "        pos = nx.circular_layout(G)\n",
    "        plt.figure(3,figsize=(120, 120))\n",
    "        nx.draw(G, pos)\n",
    "        plt.savefig(f\"{p}-plot.jpg\" )\n",
    "    p += 0.1\n"
   ]
  }
 ],
 "metadata": {
  "kernelspec": {
   "display_name": "Python 3",
   "language": "python",
   "name": "python3"
  },
  "language_info": {
   "codemirror_mode": {
    "name": "ipython",
    "version": 3
   },
   "file_extension": ".py",
   "mimetype": "text/x-python",
   "name": "python",
   "nbconvert_exporter": "python",
   "pygments_lexer": "ipython3",
   "version": "3.7.6"
  }
 },
 "nbformat": 4,
 "nbformat_minor": 4
}
