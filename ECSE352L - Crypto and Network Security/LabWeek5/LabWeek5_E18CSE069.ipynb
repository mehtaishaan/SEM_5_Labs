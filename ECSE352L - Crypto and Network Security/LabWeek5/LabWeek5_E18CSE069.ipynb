{
 "cells": [
  {
   "cell_type": "markdown",
   "metadata": {},
   "source": [
    "### Ishaan Mehta E18CSE069 EB02 LabWeek5 "
   ]
  },
  {
   "cell_type": "code",
   "execution_count": 3,
   "metadata": {},
   "outputs": [
    {
     "name": "stdout",
     "output_type": "stream",
     "text": [
      "----OUTPUT----\n",
      "\n",
      "    Public Key: (111143064230806689148328318926758651447656131756753086372599251864884281405339346074598725302390134973027638058623716529493815297810093763220471883351013976775867391159989652810188560477694366606281456796873902201364629968966482911800636359055135655897126865643798468601880276114970109623069650746508100011913, 15047218857140332231551698191540957128985720670969050851913373186691165130347700875823804949690645149106295439543563569157110270872313532181804325512668473437042964723275342781744356200823067027309415034801335699905409333217444196784413707568417405796898950659665285583943294225074607105102966431917858326307641349051553266989905846693201468153068307326989741936750773895971142369590483126332426512983377681536595570687819985739386449784012641295292381715477569524687772476033260559173486576480563195851779617343634827270978443882546908526317830510496669415904809996370174707936987306047316464402839428650840465698307)\n",
      "    Length of Public Key: 309\n",
      "    Private Key: (7727955046420883566708231131728902531067966668361309286574735019520432166112228150562645243992496853625961133046287496235367015221605811999735408295596297430684394653702034580425477583384820523966529468617046870070997279866820478757923156531038291232678484482343635481999727230320175485996628051990262493099459221602263848716941378975968050824804366936176017257096218152039306119033688707859883451783581786545251849278570710472085189564529033525629483088764059557831085333151003792582428874877606182126676198085171241918694079054456161583989362013001777335111418715223872790097683134444764116944559117300734779853097, 15047218857140332231551698191540957128985720670969050851913373186691165130347700875823804949690645149106295439543563569157110270872313532181804325512668473437042964723275342781744356200823067027309415034801335699905409333217444196784413707568417405796898950659665285583943294225074607105102966431917858326307641349051553266989905846693201468153068307326989741936750773895971142369590483126332426512983377681536595570687819985739386449784012641295292381715477569524687772476033260559173486576480563195851779617343634827270978443882546908526317830510496669415904809996370174707936987306047316464402839428650840465698307)\n",
      "    Length of Private Key: 616\n",
      "    \n"
     ]
    }
   ],
   "source": [
    "import sympy\n",
    "import random\n",
    "class KeyGen:\n",
    "\n",
    "    '''\n",
    "        This class has methods to generate both the public and private key for asymmetric\n",
    "        encryption. The standard used for the calculation is as follows:\n",
    "        \tGenerate two large random primes, p and q\n",
    "        \tCompute n=pxq\n",
    "        \tCompute ϕ=(p−1)(q−1)\n",
    "        \tChoose an integer e, 1<e<ϕ, such that gcd(e,ϕ)=1\n",
    "        \tCompute the secret exponent d, 1<d<ϕ, such that ed≡1modϕ\n",
    "        \tThe public key= (e, n)\n",
    "        \tThe private key (d, n)\n",
    "    '''\n",
    "\n",
    "    e = None\n",
    "\n",
    "    def __init__(self, bits):\n",
    "        self.bits = bits\n",
    "        self.p, self.q = sympy.randprime(\n",
    "            2**(bits-1), 2**bits), sympy.randprime(2**(bits-1), 2**bits)\n",
    "        self.n = self.p*self.q\n",
    "        self.fi = (self.p-1)*(self.q-1)\n",
    "        self.puK = self.getPublicKey()\n",
    "        self.prK = self.getPrivateKey()\n",
    "\n",
    "    def getKeys(self):\n",
    "        return self.puK, self.prK\n",
    "\n",
    "    def getPublicKey(self):\n",
    "        # public key is (e, n)\n",
    "\n",
    "        # computing all e's s.t gcd(e,fi)=1\n",
    "        # taking out a random e\n",
    "        while True:\n",
    "            randNum = random.randrange(2**(self.bits-1), 2**self.bits)\n",
    "            if self.gcd(randNum, self.fi) == 1:\n",
    "                self.e = randNum\n",
    "                break\n",
    "\n",
    "        # returning the public key\n",
    "        return (self.e, self.n)\n",
    "\n",
    "    def getPrivateKey(self):\n",
    "        # private key is (d, n)\n",
    "        assert self.e != None, 'Generate Public Key First'\n",
    "\n",
    "        # calculating 'd'\n",
    "        d = self.findModInverse(self.e, self.fi)\n",
    "        # returning private key\n",
    "        return (d, self.n)\n",
    "\n",
    "    def gcd(self, a, b):\n",
    "        while a != 0:\n",
    "            a, b = b % a, a\n",
    "        return b\n",
    "\n",
    "    def findModInverse(self, a, m):\n",
    "        if self.gcd(a, m) != 1:\n",
    "            return None\n",
    "        u1, u2, u3 = 1, 0, a\n",
    "        v1, v2, v3 = 0, 1, m\n",
    "\n",
    "        while v3 != 0:\n",
    "            q = u3 // v3\n",
    "            v1, v2, v3, u1, u2, u3 = (\n",
    "                u1 - q * v1), (u2 - q * v2), (u3 - q * v3), v1, v2, v3\n",
    "\n",
    "        return u1 % m\n",
    "\n",
    "\n",
    "if __name__ == '__main__':\n",
    "    Generator = KeyGen(1024)\n",
    "    publicKey, privateKey = Generator.getKeys()\n",
    "    print(\"----OUTPUT----\")\n",
    "    print(f'''\n",
    "    Public Key: {publicKey}\n",
    "    Length of Public Key: {len(str(publicKey[0]))}\n",
    "    Private Key: {privateKey}\n",
    "    Length of Private Key: {len(str(privateKey[0]))}\n",
    "    ''')"
   ]
  },
  {
   "cell_type": "code",
   "execution_count": null,
   "metadata": {},
   "outputs": [],
   "source": []
  }
 ],
 "metadata": {
  "kernelspec": {
   "display_name": "Python 3",
   "language": "python",
   "name": "python3"
  },
  "language_info": {
   "codemirror_mode": {
    "name": "ipython",
    "version": 3
   },
   "file_extension": ".py",
   "mimetype": "text/x-python",
   "name": "python",
   "nbconvert_exporter": "python",
   "pygments_lexer": "ipython3",
   "version": "3.7.6"
  }
 },
 "nbformat": 4,
 "nbformat_minor": 4
}
