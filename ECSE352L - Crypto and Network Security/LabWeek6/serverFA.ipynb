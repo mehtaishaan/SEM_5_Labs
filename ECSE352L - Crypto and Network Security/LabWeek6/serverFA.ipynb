{
 "cells": [
  {
   "cell_type": "markdown",
   "metadata": {},
   "source": [
    "### Ishaan Mehta E18CSE069 EB02 LabWeek6"
   ]
  },
  {
   "cell_type": "code",
   "execution_count": null,
   "metadata": {},
   "outputs": [
    {
     "name": "stdout",
     "output_type": "stream",
     "text": [
      "starting\n",
      "listening <socket.socket fd=1164, family=AddressFamily.AF_INET, type=SocketKind.SOCK_STREAM, proto=0, laddr=('192.168.43.46', 5050)>\n",
      "new connection\n",
      "('192.168.43.46', 55843)\n",
      "Recived:4\n",
      "52\n",
      "10\n",
      "new connection\n",
      "('192.168.43.46', 55847)\n",
      "Recived:9\n",
      "57\n",
      "4\n"
     ]
    },
    {
     "name": "stderr",
     "output_type": "stream",
     "text": [
      "Exception in thread Thread-6:\n",
      "Traceback (most recent call last):\n",
      "  File \"C:\\Users\\Laptop\\anaconda3\\lib\\threading.py\", line 926, in _bootstrap_inner\n",
      "    self.run()\n",
      "  File \"C:\\Users\\Laptop\\anaconda3\\lib\\threading.py\", line 870, in run\n",
      "    self._target(*self._args, **self._kwargs)\n",
      "  File \"<ipython-input-1-227d5ade2a00>\", line 23, in handle_client\n",
      "    msg = c.recv(1024)\n",
      "ConnectionResetError: [WinError 10054] An existing connection was forcibly closed by the remote host\n",
      "\n"
     ]
    },
    {
     "name": "stdout",
     "output_type": "stream",
     "text": [
      "new connection\n",
      "('192.168.43.46', 55861)\n",
      "Recived:5\n",
      "53\n",
      "11\n",
      "new connection\n",
      "('192.168.43.46', 55865)\n",
      "Recived:4\n",
      "52\n",
      "10\n",
      "new connection\n",
      "('192.168.43.46', 55868)\n",
      "Recived:1\n",
      "49\n",
      "7\n"
     ]
    }
   ],
   "source": [
    "import socket\n",
    "import threading\n",
    "import random\n",
    "s=socket.socket(socket.AF_INET,socket.SOCK_STREAM)\n",
    "s.bind((socket.gethostname(),5050))\n",
    "\n",
    "q=11\n",
    "a=7\n",
    "FS=random.randint(0,q)\n",
    "FA=(a**FS)%q \n",
    "\n",
    "s2=str(FA)\n",
    "\n",
    "\n",
    "def handle_client(c,addr):\n",
    "    print(\"new connection\")\n",
    "    print(addr)\n",
    "    connected=True\n",
    "    c.send(s2.encode())\n",
    "    while connected:\n",
    "#         s.send(\"sd\".encode())\n",
    "\n",
    "        msg = c.recv(1024)\n",
    "\n",
    "        while msg: \n",
    "            \n",
    "            print('Recived:' + msg.decode()) \n",
    "            \n",
    "            rec=(msg)\n",
    "            rec1=int.from_bytes(rec, byteorder='big')\n",
    "            print(rec1)\n",
    "            k=(rec1**FS)%q\n",
    "            cw=2+(k%26)\n",
    "            print(cw)\n",
    "            c.send(str(cw).encode())\n",
    "            break;\n",
    "        \n",
    "            \n",
    "\n",
    "            \n",
    "\n",
    "            \n",
    "    s.close()\n",
    "        \n",
    "    \n",
    "def start():\n",
    "    s.listen()\n",
    "    print(\"listening\",s)\n",
    "    while True:\n",
    "        c , addr=s.accept()\n",
    "        thread=threading.Thread(target=handle_client,args=(c,addr))\n",
    "        thread.start()\n",
    "print(\"starting\")\n",
    "start()"
   ]
  },
  {
   "cell_type": "code",
   "execution_count": null,
   "metadata": {},
   "outputs": [],
   "source": []
  }
 ],
 "metadata": {
  "kernelspec": {
   "display_name": "Python 3",
   "language": "python",
   "name": "python3"
  },
  "language_info": {
   "codemirror_mode": {
    "name": "ipython",
    "version": 3
   },
   "file_extension": ".py",
   "mimetype": "text/x-python",
   "name": "python",
   "nbconvert_exporter": "python",
   "pygments_lexer": "ipython3",
   "version": "3.7.6"
  }
 },
 "nbformat": 4,
 "nbformat_minor": 4
}
