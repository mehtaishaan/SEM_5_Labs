{
 "cells": [
  {
   "cell_type": "markdown",
   "metadata": {},
   "source": [
    "### Ishaan Mehta E18CSE069 EB02 LabWeek6"
   ]
  },
  {
   "cell_type": "code",
   "execution_count": 24,
   "metadata": {},
   "outputs": [
    {
     "name": "stdout",
     "output_type": "stream",
     "text": [
      "Recived:7\n",
      "Recived:7\n",
      "55\n"
     ]
    }
   ],
   "source": [
    "import socket\n",
    "import random\n",
    "import threading\n",
    "format=64\n",
    "\n",
    "c=socket.socket(socket.AF_INET,socket.SOCK_STREAM)\n",
    "c.connect((socket.gethostname(),5050))\n",
    "\n",
    "q=11\n",
    "a=7\n",
    "HS=random.randint(0,q)\n",
    "HA=(a**HS)%q \n",
    "\n",
    "sd=str(HA)\n",
    "msg12=sd\n",
    "c.send(msg12.encode())\n",
    "\n",
    "msg=c.recv(1024)\n",
    "\n",
    "while msg:\n",
    "    print('Recived:' + msg.decode()) \n",
    "    \n",
    "    \n",
    "    rec3=(msg)\n",
    "    re1=int.from_bytes(rec3, byteorder='big')\n",
    "    kwe=(re1**HS)%q\n",
    "    break;\n",
    "msg=c.recv(1024)\n",
    "\n",
    "while msg:\n",
    "    print('Recived:' + msg.decode()) \n",
    "    \n",
    "    rec3=(msg)\n",
    "    r1=int.from_bytes(rec3, byteorder='big')\n",
    "    \n",
    "    cw2=r1-(kwe%26)\n",
    "    print(cw2)\n",
    "    break;  \n",
    "    \n",
    "    "
   ]
  },
  {
   "cell_type": "code",
   "execution_count": 53,
   "metadata": {},
   "outputs": [
    {
     "data": {
      "text/plain": [
       "12"
      ]
     },
     "execution_count": 53,
     "metadata": {},
     "output_type": "execute_result"
    }
   ],
   "source": [
    "c.send(\"disconnected\".encode())\n"
   ]
  },
  {
   "cell_type": "code",
   "execution_count": null,
   "metadata": {},
   "outputs": [],
   "source": []
  }
 ],
 "metadata": {
  "kernelspec": {
   "display_name": "Python 3",
   "language": "python",
   "name": "python3"
  },
  "language_info": {
   "codemirror_mode": {
    "name": "ipython",
    "version": 3
   },
   "file_extension": ".py",
   "mimetype": "text/x-python",
   "name": "python",
   "nbconvert_exporter": "python",
   "pygments_lexer": "ipython3",
   "version": "3.7.6"
  }
 },
 "nbformat": 4,
 "nbformat_minor": 4
}
