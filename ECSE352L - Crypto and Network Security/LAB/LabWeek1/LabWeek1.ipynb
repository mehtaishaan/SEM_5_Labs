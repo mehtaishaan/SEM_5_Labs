{
 "cells": [
  {
   "cell_type": "markdown",
   "metadata": {},
   "source": [
    "### Ishaan Mehta E18CSE069 EB02 LabWeek1"
   ]
  },
  {
   "cell_type": "code",
   "execution_count": 1,
   "metadata": {},
   "outputs": [
    {
     "name": "stdout",
     "output_type": "stream",
     "text": [
      "Select 1: To Encrypt \n",
      "Select 2: To Decrypt\n",
      "\n",
      "=>1\n",
      "Enter Message: My Name is Ishaan Mehta\n",
      "Enter Key: 4\n",
      "Q}$Reqi$mw$Mwleer$Qilxe\n"
     ]
    }
   ],
   "source": [
    "#Question1\n",
    "a =int(input((\"Select 1: To Encrypt \\nSelect 2: To Decrypt\\n\\n=>\")))\n",
    "Message=input(\"Enter Message: \")\n",
    "Key=int(input(\"Enter Key: \"))\n",
    "output = \"\"\n",
    "if a == 1:\n",
    "  for i in range(len(Message)):\n",
    "    output = output + (str(chr(ord(Message[i])+Key)))\n",
    "if a == 2:\n",
    "  for i in range(len(Message)):\n",
    "    output = output + (str(chr(ord(Message[i])-Key)))\n",
    "print(output)"
   ]
  },
  {
   "cell_type": "code",
   "execution_count": 2,
   "metadata": {},
   "outputs": [
    {
     "name": "stdout",
     "output_type": "stream",
     "text": [
      "Select 1: To Encrypt \n",
      "Select 2: To Decrypt\n",
      "\n",
      "=>2\n",
      "Enter Message: Q}$Reqi$mw$Mwleer$Qilxe\n",
      "Enter Key: 4\n",
      "My Name is Ishaan Mehta\n"
     ]
    }
   ],
   "source": [
    "#Question1\n",
    "a =int(input((\"Select 1: To Encrypt \\nSelect 2: To Decrypt\\n\\n=>\")))\n",
    "Message=input(\"Enter Message: \")\n",
    "Key=int(input(\"Enter Key: \"))\n",
    "output = \"\"\n",
    "if a == 1:\n",
    "  for i in range(len(Message)):\n",
    "    output = output + (str(chr(ord(Message[i])+Key)))\n",
    "if a == 2:\n",
    "  for i in range(len(Message)):\n",
    "    output = output + (str(chr(ord(Message[i])-Key)))\n",
    "print(output)"
   ]
  },
  {
   "cell_type": "code",
   "execution_count": 3,
   "metadata": {},
   "outputs": [
    {
     "name": "stdout",
     "output_type": "stream",
     "text": [
      "10 cryptographic nonce in the range [1, 10000]\n",
      "\n",
      "\n",
      "\n",
      "Nonce 1 :  5028\n",
      "Nonce 2 :  9108\n",
      "Nonce 3 :  7835\n",
      "Nonce 4 :  9501\n",
      "Nonce 5 :  4583\n",
      "Nonce 6 :  2002\n",
      "Nonce 7 :  9573\n",
      "Nonce 8 :  1406\n",
      "Nonce 9 :  5048\n",
      "Nonce 10 :  9124\n"
     ]
    }
   ],
   "source": [
    "#Question2\n",
    "import random\n",
    "print(\"10 cryptographic nonce in the range [1, 10000]\\n\\n\\n\")\n",
    "for i in range(0,10,1):\n",
    "  print(\"Nonce\" ,i+1,\": \",random.randint(1, 10000))"
   ]
  },
  {
   "cell_type": "code",
   "execution_count": null,
   "metadata": {},
   "outputs": [],
   "source": []
  }
 ],
 "metadata": {
  "kernelspec": {
   "display_name": "Python 3",
   "language": "python",
   "name": "python3"
  },
  "language_info": {
   "codemirror_mode": {
    "name": "ipython",
    "version": 3
   },
   "file_extension": ".py",
   "mimetype": "text/x-python",
   "name": "python",
   "nbconvert_exporter": "python",
   "pygments_lexer": "ipython3",
   "version": "3.7.6"
  }
 },
 "nbformat": 4,
 "nbformat_minor": 4
}
