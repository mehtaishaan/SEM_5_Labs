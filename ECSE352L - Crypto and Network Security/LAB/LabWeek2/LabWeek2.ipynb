{
 "cells": [
  {
   "cell_type": "markdown",
   "metadata": {},
   "source": [
    "### Ishaan Mehta E18CSE069 EB02 LabWeek2"
   ]
  },
  {
   "cell_type": "markdown",
   "metadata": {},
   "source": [
    "### Affine Cypher"
   ]
  },
  {
   "cell_type": "code",
   "execution_count": 4,
   "metadata": {},
   "outputs": [],
   "source": [
    "# Defining Affine encrypt function\n",
    "\n",
    "# This function takes the keys a,b and the total length allowed 'm' and returns a function to calculated encrypted index on a int\n",
    "affineEncrypt = lambda a, b, m : lambda p : (a*p+b) % m\n",
    "#takes the encryption function and text characters in num iterable format and returns chars for m = 26 with lowercase input\n",
    "encrypt = lambda eFun, numText : [chr(eFun(i)+97) for i in numText]\n",
    "\n",
    "#Defining Affine decrpyt function\n",
    "\n",
    "getInv = lambda a, m : [i for i in range(9999) if (a*i)%m == 1][0]\n",
    "affineDecrpyt = lambda aInv, b, m : lambda c : (aInv*(c-b))%m\n",
    "\n",
    "decrypt = lambda dFun, numText : [chr(dFun(i)+97) for i in numText]"
   ]
  },
  {
   "cell_type": "code",
   "execution_count": 5,
   "metadata": {},
   "outputs": [
    {
     "name": "stdout",
     "output_type": "stream",
     "text": [
      "Enter key a:3\n",
      "Enter key b:6\n",
      "Enter 0 to encrypt and 1 to decrypt or 2 for both2\n",
      "Enter the text to encrypt or decrpt (in range a-b) (A-B will be converted to lowercase)ishaan\n"
     ]
    }
   ],
   "source": [
    "import sys\n",
    "#Taking all the Inputs\n",
    "\n",
    "#defining 'm'\n",
    "m = 26\n",
    "\n",
    "# Getting the keys\n",
    "a, b = int(input(\"Enter key a:\")), int(input(\"Enter key b:\"))\n",
    "if a%m == 0 or m%a == 0:\n",
    "    print(f'Invalid Cypher Key. Needs to be prime relative to m:{m}')\n",
    "    sys.exit(\"Invalid Input\")\n",
    "\n",
    "# Asking whether to encrypt or decrypt\n",
    "state = int(input(\"Enter 0 to encrypt and 1 to decrypt or 2 for both\"))\n",
    "\n",
    "#Getting the text to encrypt or decrpyt\n",
    "text = str(input(\"Enter the text to encrypt or decrpt (in range a-b) (A-B will be converted to lowercase)\")).lower()\n",
    "if [i for i in text if ord(i) < 97 or ord(i) > 97+26]:\n",
    "    print(f'Some character is out of range for Affine encryption with current m={m}. Enter in range a-b')\n",
    "    sys.exit('Invalid input')\n",
    "\n",
    "# Converting to numeric\n",
    "convNum = lambda t : [ord(i)-97 for i in text]\n",
    "text = convNum(text)\n",
    "# Initializing encrypt\n",
    "eFun = affineEncrypt(a, b, m)\n",
    "aInv = getInv(a, m)\n",
    "dFun = affineDecrpyt(aInv, b, m)"
   ]
  },
  {
   "cell_type": "code",
   "execution_count": 6,
   "metadata": {},
   "outputs": [
    {
     "name": "stdout",
     "output_type": "stream",
     "text": [
      "a: 3, b: 6, m: 26\n",
      "Encrypted Text: eibggt\n",
      "Decrypted Text: ishaan\n"
     ]
    }
   ],
   "source": [
    "print(f'a: {a}, b: {b}, m: {m}')\n",
    "\n",
    "# Encrypt\n",
    "if state == 0 or state == 2:\n",
    "    encText = \"\".join(encrypt(eFun, text))\n",
    "    print(f'Encrypted Text: {encText}')\n",
    "    text = [ord(i)-97 for i in encText]\n",
    "# Decrypt\n",
    "if state == 1 or state == 2:\n",
    "    decText = \"\".join(decrypt(dFun, text)) \n",
    "    print(f'Decrypted Text: {decText}')"
   ]
  },
  {
   "cell_type": "markdown",
   "metadata": {},
   "source": [
    "### PlayFair Cypher"
   ]
  },
  {
   "cell_type": "code",
   "execution_count": 10,
   "metadata": {},
   "outputs": [],
   "source": [
    "import numpy as np\n",
    "import string\n",
    "class Playfair:\n",
    "    def __init__(self, key, verbose = False):\n",
    "        self._key = str(key).lower()\n",
    "        self.verbose = verbose\n",
    "        self._Grid = np.array([['']*5]*5 , dtype=\"str\")\n",
    "        self._visited = {c : False for c in string.ascii_lowercase if c != 'j'}\n",
    "        self._initGrid()\n",
    "        \n",
    "    def _initGrid(self):\n",
    "        i,j= self._fillGrid(0,0, self._key)\n",
    "        self._fillGrid(i,j, string.ascii_lowercase)\n",
    "        if self.verbose:\n",
    "            print(self._Grid)\n",
    "                \n",
    "    def _fillGrid(self, i, j, s):\n",
    "        for c in s:\n",
    "            if i > 4:\n",
    "                break\n",
    "            if j > 4:\n",
    "                j = 0\n",
    "                i+=1\n",
    "            if c == 'j':\n",
    "                c = 'i'\n",
    "            if self._visited[c] == False:\n",
    "                self._Grid[i,j] = c\n",
    "                self._visited[c] = True\n",
    "                j+=1\n",
    "        return i,j\n",
    "            \n",
    "    \n",
    "    def encrypt(self, text):\n",
    "        text = str(text).lower()\n",
    "        if len(text)%2 != 0:\n",
    "            text += 'z'\n",
    "        text = text.replace('j','i')\n",
    "        diG = [text[i]+text[i+1] for i in range(0,len(text),2)]\n",
    "        if self.verbose:\n",
    "            print(f'Following is the digraph: {diG}\\n')\n",
    "        encDig = map(self._encryptor, diG)\n",
    "        return \"\".join(list(encDig))\n",
    "    \n",
    "    def decrpyt(self, text):\n",
    "        text = str(text).lower()\n",
    "        if len(text)%2 != 0:\n",
    "            text += 'z'\n",
    "        text = text.replace('j','i')\n",
    "        diG = [text[i]+text[i+1] for i in range(0,len(text),2)]\n",
    "        if self.verbose:\n",
    "            print(f'Following is the digraph: {diG}\\n')\n",
    "        encDig = map(self._decryptor, diG)\n",
    "        return \"\".join(list(encDig))\n",
    "    \n",
    "    def _encryptor(self, d):\n",
    "        if self.verbose:\n",
    "            print(f'Mapping: {d[0]},{d[1]}')\n",
    "        pos1 = np.where(self._Grid == d[0])\n",
    "        pos2 = np.where(self._Grid == d[1])\n",
    "        i1,j1,i2,j2 = pos1[0], pos1[1], pos2[0], pos2[1]\n",
    "        \n",
    "        #same column\n",
    "        if j1 == j2:\n",
    "            i1+=1\n",
    "            i2+=1\n",
    "        #same row\n",
    "        elif i1 == i2:\n",
    "            j1+=1\n",
    "            j2+=1\n",
    "        #diagonal\n",
    "        else:\n",
    "            t = j1\n",
    "            j1 = j2\n",
    "            j2 = t\n",
    "        i1 = 0 if i1 > 4 else i1\n",
    "        j1 = 0 if j1 > 4 else j1\n",
    "        i2 = 0 if i2 > 4 else i2\n",
    "        j2 = 0 if j2 > 4 else j2\n",
    "        if self.verbose:\n",
    "            print(f'Mapped to : {self._Grid[i1,j1][0]} ,{self._Grid[i2,j2][0]}\\n')\n",
    "        return self._Grid[i1,j1][0]+self._Grid[i2,j2][0]\n",
    "    \n",
    "    def _decryptor(self, d):\n",
    "        if self.verbose:\n",
    "            print(f'Mapping: {d[0]},{d[1]}')\n",
    "        pos1 = np.where(self._Grid == d[0])\n",
    "        pos2 = np.where(self._Grid == d[1])\n",
    "        i1,j1,i2,j2 = pos1[0], pos1[1], pos2[0], pos2[1]\n",
    "        \n",
    "        #same column\n",
    "        if j1 == j2:\n",
    "            i1-=1\n",
    "            i2-=1\n",
    "        #same row\n",
    "        elif i1 == i2:\n",
    "            j1-=1\n",
    "            j2-=1\n",
    "        #diagonal\n",
    "        else:\n",
    "            t = j1\n",
    "            j1 = j2\n",
    "            j2 = t\n",
    "        i1 = 4 if i1 < 0 else i1\n",
    "        j1 = 4 if j1 < 0 else j1\n",
    "        i2 = 4 if i2 < 0 else i2\n",
    "        j2 = 4 if j2 < 0 else j2\n",
    "        if self.verbose:\n",
    "            print(f'Mapped to : {self._Grid[i1,j1][0]} ,{self._Grid[i2,j2][0]}\\n')\n",
    "        return self._Grid[i1,j1][0]+self._Grid[i2,j2][0]"
   ]
  },
  {
   "cell_type": "code",
   "execution_count": 15,
   "metadata": {},
   "outputs": [
    {
     "name": "stdout",
     "output_type": "stream",
     "text": [
      "Enter key text:monarchy\n",
      "Enter text to encrypt:instruments\n"
     ]
    }
   ],
   "source": [
    "key = str(input('Enter key text:'))\n",
    "text = str(input('Enter text to encrypt:'))"
   ]
  },
  {
   "cell_type": "code",
   "execution_count": 17,
   "metadata": {},
   "outputs": [
    {
     "name": "stdout",
     "output_type": "stream",
     "text": [
      "Original Message: instruments\n",
      "Encrypted Message: gatlmzclrqtx\n"
     ]
    }
   ],
   "source": [
    "cypher = Playfair(key)\n",
    "print(f'Original Message: {text}')\n",
    "res = cypher.encrypt(text)\n",
    "print(f'Encrypted Message: {res}')"
   ]
  },
  {
   "cell_type": "code",
   "execution_count": null,
   "metadata": {},
   "outputs": [],
   "source": []
  }
 ],
 "metadata": {
  "kernelspec": {
   "display_name": "Python 3",
   "language": "python",
   "name": "python3"
  },
  "language_info": {
   "codemirror_mode": {
    "name": "ipython",
    "version": 3
   },
   "file_extension": ".py",
   "mimetype": "text/x-python",
   "name": "python",
   "nbconvert_exporter": "python",
   "pygments_lexer": "ipython3",
   "version": "3.7.6"
  }
 },
 "nbformat": 4,
 "nbformat_minor": 4
}
